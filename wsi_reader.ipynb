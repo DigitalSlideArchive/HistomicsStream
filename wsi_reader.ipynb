{
 "cells": [
  {
   "cell_type": "raw",
   "metadata": {},
   "source": [
    "!apt-get update -y\n",
    "!apt-get install python3-openslide -y\n",
    "!pip install -U pip setuptools wheel\n",
    "!pip install openslide-python\n",
    "!pip install -U tensorboard_plugin_profile"
   ]
  },
  {
   "cell_type": "code",
   "execution_count": 1,
   "metadata": {},
   "outputs": [],
   "source": [
    "from datetime import datetime\n",
    "from packaging import version\n",
    "from zarr_jpeg import jpeg\n",
    "import os\n",
    "import tensorflow as tf\n",
    "import tensorflow_reader as tfr\n",
    "import time"
   ]
  },
  {
   "cell_type": "code",
   "execution_count": 2,
   "metadata": {},
   "outputs": [
    {
     "name": "stdout",
     "output_type": "stream",
     "text": [
      "TensorFlow version:  2.2.0\n",
      "Found GPU at: /device:GPU:0\n"
     ]
    }
   ],
   "source": [
    "use_profiler = False\n",
    "print(\"TensorFlow version: \", tf.__version__)\n",
    "device_name = tf.test.gpu_device_name()\n",
    "if not device_name:\n",
    "  raise SystemError('GPU device not found')\n",
    "print('Found GPU at: {}'.format(device_name))"
   ]
  },
  {
   "cell_type": "code",
   "execution_count": 3,
   "metadata": {},
   "outputs": [],
   "source": [
    "if use_profiler:\n",
    "    logs = \"logs/\" + datetime.now().strftime(\"%Y%m%d-%H%M%S\")\n",
    "    # tensorboard_callback = tf.keras.callbacks.TensorBoard(log_dir=logs, histogram_freq=1)"
   ]
  },
  {
   "cell_type": "code",
   "execution_count": 4,
   "metadata": {},
   "outputs": [],
   "source": [
    "if use_profiler and False:\n",
    "    # Example code that isn't working in our case.\n",
    "    summary_writer = tf.summary.create_file_writer(logs)\n",
    "    with summary_writer.as_default():\n",
    "        model, batched_dist, strategy = tfr.readExample()\n",
    "        features, metadata = tfr.predictExample(model, batched_dist, strategy)\n",
    "        tfr.outputExample(features, metadata)"
   ]
  },
  {
   "cell_type": "code",
   "execution_count": 5,
   "metadata": {},
   "outputs": [],
   "source": [
    "ticTotal = time.time()\n",
    "if use_profiler:\n",
    "    tf.profiler.experimental.start(logs)"
   ]
  },
  {
   "cell_type": "code",
   "execution_count": 6,
   "metadata": {},
   "outputs": [
    {
     "name": "stdout",
     "output_type": "stream",
     "text": [
      "INFO:tensorflow:Using MirroredStrategy with devices ('/job:localhost/replica:0/task:0/device:GPU:0', '/job:localhost/replica:0/task:0/device:GPU:1', '/job:localhost/replica:0/task:0/device:GPU:2', '/job:localhost/replica:0/task:0/device:GPU:3', '/job:localhost/replica:0/task:0/device:GPU:4', '/job:localhost/replica:0/task:0/device:GPU:5', '/job:localhost/replica:0/task:0/device:GPU:6')\n",
      "strategyExample: 7.718057 seconds\n",
      "['/gpu:0', '/gpu:1', '/gpu:2', '/gpu:3', '/gpu:4', '/gpu:5', '/gpu:6']\n"
     ]
    }
   ],
   "source": [
    "devices, strategy, model = tfr.strategyExample()\n",
    "print(devices)"
   ]
  },
  {
   "cell_type": "code",
   "execution_count": 7,
   "metadata": {},
   "outputs": [],
   "source": [
    "tf.distribute.experimental_set_strategy(strategy)"
   ]
  },
  {
   "cell_type": "code",
   "execution_count": 8,
   "metadata": {},
   "outputs": [
    {
     "name": "stdout",
     "output_type": "stream",
     "text": [
      "readExample: 1.363249 seconds\n"
     ]
    }
   ],
   "source": [
    "with strategy.scope():\n",
    "    batched_dist = tfr.readExample(devices, strategy)"
   ]
  },
  {
   "cell_type": "code",
   "execution_count": 9,
   "metadata": {},
   "outputs": [
    {
     "name": "stdout",
     "output_type": "stream",
     "text": [
      "predictExample: 72.716125 seconds\n"
     ]
    }
   ],
   "source": [
    "with strategy.scope():\n",
    "    features, metadata = tfr.predictExample(model, batched_dist, strategy)"
   ]
  },
  {
   "cell_type": "code",
   "execution_count": 10,
   "metadata": {},
   "outputs": [
    {
     "name": "stdout",
     "output_type": "stream",
     "text": [
      "outputExample: 15.125955 seconds\n"
     ]
    }
   ],
   "source": [
    "with strategy.scope():\n",
    "    tfr.outputExample(features, metadata)"
   ]
  },
  {
   "cell_type": "code",
   "execution_count": 11,
   "metadata": {},
   "outputs": [
    {
     "name": "stdout",
     "output_type": "stream",
     "text": [
      "Total running time: 96.990725 seconds for 7 devices\n"
     ]
    }
   ],
   "source": [
    "if use_profiler:\n",
    "    tf.profiler.experimental.stop()\n",
    "print('Total running time: %f seconds for %d devices' % ((time.time() - ticTotal), len(devices)))"
   ]
  },
  {
   "cell_type": "code",
   "execution_count": 12,
   "metadata": {},
   "outputs": [],
   "source": [
    "if use_profiler:\n",
    "    print(logs)\n",
    "    %load_ext tensorboard\n",
    "    %tensorboard --logdir=logs"
   ]
  },
  {
   "cell_type": "code",
   "execution_count": 13,
   "metadata": {},
   "outputs": [],
   "source": [
    "del model, batched_dist, strategy, features, metadata"
   ]
  },
  {
   "cell_type": "code",
   "execution_count": null,
   "metadata": {},
   "outputs": [],
   "source": []
  }
 ],
 "metadata": {
  "kernelspec": {
   "display_name": "Python 3",
   "language": "python",
   "name": "python3"
  },
  "language_info": {
   "codemirror_mode": {
    "name": "ipython",
    "version": 3
   },
   "file_extension": ".py",
   "mimetype": "text/x-python",
   "name": "python",
   "nbconvert_exporter": "python",
   "pygments_lexer": "ipython3",
   "version": "3.8.0"
  }
 },
 "nbformat": 4,
 "nbformat_minor": 4
}
