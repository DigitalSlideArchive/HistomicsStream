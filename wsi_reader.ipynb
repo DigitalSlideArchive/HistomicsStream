{
 "cells": [
  {
   "cell_type": "code",
   "execution_count": 1,
   "metadata": {},
   "outputs": [
    {
     "name": "stdout",
     "output_type": "stream",
     "text": [
      "Requirement already satisfied: openslide-python in /home/leenewberg/venv/jupyter/lib/python3.6/site-packages (1.1.1)\n",
      "Requirement already satisfied: Pillow in /home/leenewberg/venv/jupyter/lib/python3.6/site-packages (from openslide-python) (7.2.0)\n",
      "Requirement already up-to-date: tensorboard_plugin_profile in /home/leenewberg/venv/jupyter/lib/python3.6/site-packages (2.3.0)\n",
      "Requirement already satisfied, skipping upgrade: werkzeug>=0.11.15 in /home/leenewberg/venv/jupyter/lib/python3.6/site-packages (from tensorboard_plugin_profile) (1.0.1)\n",
      "Requirement already satisfied, skipping upgrade: setuptools>=41.0.0 in /home/leenewberg/venv/jupyter/lib/python3.6/site-packages (from tensorboard_plugin_profile) (50.0.1)\n",
      "Requirement already satisfied, skipping upgrade: protobuf>=3.6.0 in /home/leenewberg/venv/jupyter/lib/python3.6/site-packages (from tensorboard_plugin_profile) (3.13.0)\n",
      "Requirement already satisfied, skipping upgrade: gviz-api>=1.9.0 in /home/leenewberg/venv/jupyter/lib/python3.6/site-packages (from tensorboard_plugin_profile) (1.9.0)\n",
      "Requirement already satisfied, skipping upgrade: six>=1.10.0 in /home/leenewberg/venv/jupyter/lib/python3.6/site-packages (from tensorboard_plugin_profile) (1.15.0)\n"
     ]
    }
   ],
   "source": [
    "#!apt-get update -y\n",
    "#!apt-get install python3-openslide -y\n",
    "!pip install openslide-python\n",
    "!pip install -U tensorboard_plugin_profile"
   ]
  },
  {
   "cell_type": "code",
   "execution_count": 2,
   "metadata": {},
   "outputs": [],
   "source": [
    "import tensorflow as tf\n",
    "import tensorflow_reader as tfr\n",
    "from datetime import datetime\n",
    "from packaging import version\n",
    "import os"
   ]
  },
  {
   "cell_type": "code",
   "execution_count": 3,
   "metadata": {},
   "outputs": [
    {
     "name": "stdout",
     "output_type": "stream",
     "text": [
      "TensorFlow version:  2.3.0\n",
      "Found GPU at: /device:GPU:0\n"
     ]
    }
   ],
   "source": [
    "print(\"TensorFlow version: \", tf.__version__)\n",
    "device_name = tf.test.gpu_device_name()\n",
    "if not device_name:\n",
    "  raise SystemError('GPU device not found')\n",
    "print('Found GPU at: {}'.format(device_name))"
   ]
  },
  {
   "cell_type": "code",
   "execution_count": 4,
   "metadata": {},
   "outputs": [],
   "source": [
    "logs = \"logs/\" + datetime.now().strftime(\"%Y%m%d-%H%M%S\")\n",
    "# tensorboard_callback = tf.keras.callbacks.TensorBoard(log_dir=logs, histogram_freq=1)"
   ]
  },
  {
   "cell_type": "code",
   "execution_count": 5,
   "metadata": {},
   "outputs": [],
   "source": [
    "if False:\n",
    "    # Example code that isn't working in our case.\n",
    "    summary_writer = tf.summary.create_file_writer(logs)\n",
    "    with summary_writer.as_default():\n",
    "        model, batched_dist, strategy = tfr.readExample()\n",
    "        features, metadata = tfr.predictExample(model, batched_dist, strategy)\n",
    "        tfr.outputExample(features, metadata)"
   ]
  },
  {
   "cell_type": "code",
   "execution_count": 6,
   "metadata": {},
   "outputs": [],
   "source": [
    "tf.profiler.experimental.start(logs)"
   ]
  },
  {
   "cell_type": "code",
   "execution_count": 7,
   "metadata": {},
   "outputs": [
    {
     "name": "stdout",
     "output_type": "stream",
     "text": [
      "INFO:tensorflow:Using MirroredStrategy with devices ('/job:localhost/replica:0/task:0/device:GPU:0', '/job:localhost/replica:0/task:0/device:GPU:1')\n",
      "strategyExample: 4.606204 seconds\n"
     ]
    }
   ],
   "source": [
    "devices, strategy, model = tfr.strategyExample()"
   ]
  },
  {
   "cell_type": "code",
   "execution_count": 8,
   "metadata": {},
   "outputs": [
    {
     "name": "stdout",
     "output_type": "stream",
     "text": [
      "readExample: 2.635775 seconds\n"
     ]
    }
   ],
   "source": [
    "model, batched_dist, strategy = tfr.readExample(devices, strategy, model)"
   ]
  },
  {
   "cell_type": "code",
   "execution_count": 9,
   "metadata": {},
   "outputs": [
    {
     "name": "stdout",
     "output_type": "stream",
     "text": [
      "WARNING:tensorflow:From /home/leenewberg/venv/jupyter/lib/python3.6/site-packages/tensorflow/python/data/ops/multi_device_iterator_ops.py:601: get_next_as_optional (from tensorflow.python.data.ops.iterator_ops) is deprecated and will be removed in a future version.\n",
      "Instructions for updating:\n",
      "Use `tf.data.Iterator.get_next_as_optional()` instead.\n",
      "predictExample: 215.472061 seconds\n"
     ]
    }
   ],
   "source": [
    "features, metadata = tfr.predictExample(model, batched_dist, strategy)"
   ]
  },
  {
   "cell_type": "code",
   "execution_count": 10,
   "metadata": {},
   "outputs": [
    {
     "name": "stdout",
     "output_type": "stream",
     "text": [
      "outputExample: 47.933906 seconds\n"
     ]
    }
   ],
   "source": [
    "tfr.outputExample(features, metadata)"
   ]
  },
  {
   "cell_type": "code",
   "execution_count": 11,
   "metadata": {},
   "outputs": [],
   "source": [
    "tf.profiler.experimental.stop()"
   ]
  },
  {
   "cell_type": "code",
   "execution_count": 12,
   "metadata": {},
   "outputs": [
    {
     "name": "stdout",
     "output_type": "stream",
     "text": [
      "logs/20201014-134903\n"
     ]
    }
   ],
   "source": [
    "print(logs)\n",
    "%load_ext tensorboard\n",
    "%tensorboard --logdir=logs"
   ]
  },
  {
   "cell_type": "code",
   "execution_count": 13,
   "metadata": {},
   "outputs": [],
   "source": [
    "del model, batched_dist, strategy, features, metadata"
   ]
  }
 ],
 "metadata": {
  "kernelspec": {
   "display_name": "jupyter",
   "language": "python",
   "name": "jupyter"
  },
  "language_info": {
   "codemirror_mode": {
    "name": "ipython",
    "version": 3
   },
   "file_extension": ".py",
   "mimetype": "text/x-python",
   "name": "python",
   "nbconvert_exporter": "python",
   "pygments_lexer": "ipython3",
   "version": "3.6.9"
  }
 },
 "nbformat": 4,
 "nbformat_minor": 4
}
