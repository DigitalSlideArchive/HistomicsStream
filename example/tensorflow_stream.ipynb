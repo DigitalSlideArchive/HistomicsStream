{
 "cells": [
  {
   "cell_type": "markdown",
   "id": "b0c50c61",
   "metadata": {},
   "source": [
    "# Demonstration of histomics_stream\n",
    "\n",
    "Click to open in [[GitHub](https://github.com/DigitalSlideArchive/HistomicsStream/tree/master/example/tensorflow_stream.ipynb)] [[Google Colab](https://colab.research.google.com/github/DigitalSlideArchive/HistomicsStream/blob/master/example/tensorflow_stream.ipynb)]\n",
    "\n",
    "The `histomics_stream` Python package sits at the start of any machine learning workflow that is built on the TensorFlow machine learning library.  The package is responsible for efficient access to the input image data that will be used to fit a new machine learning model or will be used to predict regions of interest in novel inputs using an already learned model."
   ]
  },
  {
   "cell_type": "markdown",
   "id": "10f22613",
   "metadata": {},
   "source": [
    "## Installation\n",
    "\n",
    "If you are running this notebook on Google Colab or another system where `histomics_stream` and its dependencies are not yet installed then they can be installed with the following commands.  Note that image readers in addition to openslide are also supported by using, e.g., `large_image[bioformats,ometiff,openjpeg,openslide,tiff]` on the below pip install command line."
   ]
  },
  {
   "cell_type": "code",
   "execution_count": null,
   "id": "9ac13166-ba70-495b-be71-43036afc5cb7",
   "metadata": {},
   "outputs": [],
   "source": [
    "# Get histomics_stream and its dependencies\n",
    "!apt update\n",
    "!apt install -y python3-openslide openslide-tools\n",
    "!pip install 'large_image[openslide,tiff]' --find-links https://girder.github.io/large_image_wheels\n",
    "!pip install histomics_stream\n",
    "\n",
    "# Get other packages used in this notebook\n",
    "# N.B. itkwidgets works with jupyter<=3.0.0\n",
    "!apt install libcudnn8 libcudnn8-dev\n",
    "!pip install histomics_detect pooch itkwidgets\n",
    "!jupyter labextension install @jupyter-widgets/jupyterlab-manager jupyter-matplotlib jupyterlab-datawidgets itkwidgets\n",
    "\n",
    "print(\n",
    "    \"\\nNOTE!: On Google Colab you may need to choose 'Runtime->Restart runtime' for these updates to take effect.\"\n",
    ")"
   ]
  },
  {
   "cell_type": "markdown",
   "id": "1b4b1fd0",
   "metadata": {},
   "source": [
    "## Fetching and creating the test data\n",
    "This notebook has demonstrations that use the files `TCGA-AN-A0G0-01Z-00-DX1.svs` (365 MB) and `TCGA-AN-A0G0-01Z-00-DX1.mask.png` (4 kB),  The pooch commands will fetch them if they are not already available."
   ]
  },
  {
   "cell_type": "code",
   "execution_count": null,
   "id": "8b9784b2",
   "metadata": {},
   "outputs": [],
   "source": [
    "import os\n",
    "import pooch\n",
    "\n",
    "# download whole slide image\n",
    "wsi_path = pooch.retrieve(\n",
    "    fname=\"TCGA-AN-A0G0-01Z-00-DX1.svs\",\n",
    "    url=\"https://drive.google.com/uc?export=download&id=19agE_0cWY582szhOVxp9h3kozRfB4CvV&confirm=t&uuid=6f2d51e7-9366-4e98-abc7-4f77427dd02c&at=ALgDtswlqJJw1KU7P3Z1tZNcE01I:1679111148632\",\n",
    "    known_hash=\"d046f952759ff6987374786768fc588740eef1e54e4e295a684f3bd356c8528f\",\n",
    "    path=str(pooch.os_cache(\"pooch\")) + os.sep + \"wsi\",\n",
    ")\n",
    "print(f\"Have {wsi_path}\")\n",
    "\n",
    "# download binary mask image\n",
    "mask_path = pooch.retrieve(\n",
    "    fname=\"TCGA-AN-A0G0-01Z-00-DX1.mask.png\",\n",
    "    url=\"https://drive.google.com/uc?export=download&id=17GOOHbL8Bo3933rdIui82akr7stbRfta\",\n",
    "    known_hash=\"bb657ead9fd3b8284db6ecc1ca8a1efa57a0e9fd73d2ea63ce6053fbd3d65171\",\n",
    "    path=str(pooch.os_cache(\"pooch\")) + os.sep + \"wsi\",\n",
    ")\n",
    "print(f\"Have {mask_path}\")"
   ]
  },
  {
   "cell_type": "markdown",
   "id": "cb4179b8",
   "metadata": {},
   "source": [
    "## Creating a study for use with histomics_stream\n",
    "\n",
    "We describe the input and desired parameters using standard Python lists and dictionaries.  Here we give a high-level configuration; selection of tiles is done subsequently.\n",
    "\n",
    "N.B.: __*all*__ values that are number of pixels are based upon the `target_magnification` that is supplied to `FindResolutionForSlide`.  This includes pixel sizes of a slide, chunk, or tile and it includes the pixel coordinates for a chunk or tile.  It applies whether the numbers are supplied to histomics_stream or returned by histomics_stream.  However, if the `magnification_source` is not `exact` the `returned_magnification` may not equal the `target_magnification`; to get the number of pixels that is relevant for the `returned_magnification`, typically these numbers of pixels are multiplied by the ratio `returned_magnification / target_magnification`.  In particular, the *pixel size of the returned tiles* will be the requested size times this ratio."
   ]
  },
  {
   "cell_type": "code",
   "execution_count": null,
   "id": "0de1e5a5-58ed-4cc9-9348-9e22e0c9fa23",
   "metadata": {},
   "outputs": [],
   "source": [
    "import histomics_stream as hs\n",
    "import histomics_stream.tensorflow\n",
    "import tensorflow as tf"
   ]
  },
  {
   "cell_type": "code",
   "execution_count": null,
   "id": "08cfbc01-1b50-426e-ac4e-9c73916329d4",
   "metadata": {},
   "outputs": [],
   "source": [
    "# Create a study and insert study-wide information.\n",
    "# Add a slide to the study, including slide-wide information with it.\n",
    "my_study0 = dict(\n",
    "    version=\"version-1\",\n",
    "    tile_height=256,\n",
    "    tile_width=256,\n",
    "    overlap_height=0,\n",
    "    overlap_width=0,\n",
    "    slides=dict(\n",
    "        Slide_0=dict(\n",
    "            filename=wsi_path,\n",
    "            slide_name=os.path.splitext(os.path.split(wsi_path)[1])[0],\n",
    "            slide_group=\"Group 3\",\n",
    "            chunk_height=2048,\n",
    "            chunk_width=2048,\n",
    "        )\n",
    "    ),\n",
    ")\n",
    "\n",
    "# For each slide, find the appropriate resolution given the target_magnification and\n",
    "# magnification_tolerance.  In this example, we use the same parameters for each slide,\n",
    "# but this is not required generally.\n",
    "find_slide_resolution = hs.configure.FindResolutionForSlide(\n",
    "    my_study0, target_magnification=20, magnification_source=\"native\"\n",
    ")\n",
    "for slide in my_study0[\"slides\"].values():\n",
    "    find_slide_resolution(slide)\n",
    "print(f\"my_study0 = {my_study0}\")"
   ]
  },
  {
   "cell_type": "markdown",
   "id": "dd18bd4e",
   "metadata": {},
   "source": [
    "## Tile selection\n",
    "\n",
    "We are going to demonstrate several approaches to choosing tiles.  Each approach will start with its own copy of the `my_study0` that we have built so far."
   ]
  },
  {
   "cell_type": "code",
   "execution_count": null,
   "id": "4b4e5990",
   "metadata": {},
   "outputs": [],
   "source": [
    "import copy"
   ]
  },
  {
   "cell_type": "code",
   "execution_count": null,
   "id": "56e2d816",
   "metadata": {},
   "outputs": [],
   "source": [
    "# Demonstrate TilesByGridAndMask without a mask\n",
    "my_study_by_grid = copy.deepcopy(my_study0)\n",
    "tiles_by_grid = hs.configure.TilesByGridAndMask(\n",
    "    my_study_by_grid, overlap_height=32, overlap_width=32, randomly_select=5\n",
    ")\n",
    "# We could apply this to a subset of the slides, but we will apply it to all slides in\n",
    "# this example.\n",
    "for slide in my_study_by_grid[\"slides\"].values():\n",
    "    tiles_by_grid(slide)\n",
    "# Take a look at what we have made\n",
    "print(f\"==== The entire dictionary is now ==== \\nmy_study_by_grid = {my_study_by_grid}\")\n",
    "just_tiles = tiles_by_grid.get_tiles(my_study_by_grid)\n",
    "print(f\"==== A quick look at just the tiles is now ====\\njust_tiles = {just_tiles}\")"
   ]
  },
  {
   "cell_type": "code",
   "execution_count": null,
   "id": "018d44a8",
   "metadata": {},
   "outputs": [],
   "source": [
    "# Demonstrate TilesByGridAndMask with a mask\n",
    "my_study_by_grid_and_mask = copy.deepcopy(my_study0)\n",
    "tiles_by_grid_and_mask = hs.configure.TilesByGridAndMask(\n",
    "    my_study_by_grid_and_mask, mask_filename=mask_path, randomly_select=10\n",
    ")\n",
    "# We could apply this to a subset of the slides, but we will apply it to all slides in\n",
    "# this example.\n",
    "for slide in my_study_by_grid_and_mask[\"slides\"].values():\n",
    "    tiles_by_grid_and_mask(slide)\n",
    "# Take a look at what we have made\n",
    "print(\n",
    "    f\"==== The entire dictionary is now ==== \\nmy_study_by_grid_and_mask = {my_study_by_grid_and_mask}\"\n",
    ")\n",
    "just_tiles = tiles_by_grid_and_mask.get_tiles(my_study_by_grid_and_mask)\n",
    "print(f\"==== A quick look at just the tiles is now ====\\njust_tiles = {just_tiles}\")"
   ]
  },
  {
   "cell_type": "code",
   "execution_count": null,
   "id": "91970864",
   "metadata": {},
   "outputs": [],
   "source": [
    "# Demonstrate TilesByList\n",
    "my_study_by_list = copy.deepcopy(my_study0)\n",
    "tiles_by_list = hs.configure.TilesByList(\n",
    "    my_study_by_list,\n",
    "    randomly_select=5,\n",
    "    tiles_dictionary=my_study_by_grid[\"slides\"][\"Slide_0\"][\"tiles\"],\n",
    ")\n",
    "# We could apply this to a subset of the slides, but we will apply it to all slides in\n",
    "# this example.\n",
    "for slide in my_study_by_list[\"slides\"].values():\n",
    "    tiles_by_list(slide)\n",
    "# Take a look at what we have made\n",
    "print(f\"==== The entire dictionary is now ==== \\nmy_study_by_list = {my_study_by_list}\")\n",
    "just_tiles = tiles_by_list.get_tiles(my_study_by_list)\n",
    "print(f\"==== A quick look at just the tiles is now ====\\njust_tiles = {just_tiles}\")"
   ]
  },
  {
   "cell_type": "code",
   "execution_count": null,
   "id": "e120014f",
   "metadata": {},
   "outputs": [],
   "source": [
    "# Demonstrate TilesRandomly\n",
    "my_study_randomly = copy.deepcopy(my_study0)\n",
    "tiles_randomly = hs.configure.TilesRandomly(my_study_randomly, randomly_select=10)\n",
    "# We could apply this to a subset of the slides, but we will apply it to all slides in\n",
    "# this example.\n",
    "for slide in my_study_randomly[\"slides\"].values():\n",
    "    tiles_randomly(slide)\n",
    "# Take a look at what we have made\n",
    "print(\n",
    "    f\"==== The entire dictionary is now ==== \\nmy_study_randomly = {my_study_randomly}\"\n",
    ")\n",
    "just_tiles = tiles_randomly.get_tiles(my_study_randomly)\n",
    "print(f\"==== A quick look at just the tiles is now ====\\njust_tiles = {just_tiles}\")"
   ]
  },
  {
   "cell_type": "markdown",
   "id": "905bcb07",
   "metadata": {},
   "source": [
    "## Creating a TensorFlow Dataset\n",
    "\n",
    "We request tiles indicated by the mask and create a tensorflow Dataset that has the image data for these tiles as well as associated parameters for each tile, such as its location."
   ]
  },
  {
   "cell_type": "code",
   "execution_count": null,
   "id": "6618f2e1",
   "metadata": {},
   "outputs": [],
   "source": [
    "# Demonstrate TilesByGridAndMask with a mask\n",
    "my_study = copy.deepcopy(my_study0)\n",
    "tiles_by_grid_and_mask = hs.configure.TilesByGridAndMask(\n",
    "    my_study, mask_filename=mask_path, mask_threshold=0.5, randomly_select=100\n",
    ")\n",
    "for slide in my_study[\"slides\"].values():\n",
    "    tiles_by_grid_and_mask(slide)\n",
    "print(\"Finished selecting tiles.\")\n",
    "\n",
    "create_tensorflow_dataset = hs.tensorflow.CreateTensorFlowDataset()\n",
    "tiles = create_tensorflow_dataset(my_study)\n",
    "print(\"Finished with CreateTensorFlowDataset\")\n",
    "print(f\"... with tile shape = {tiles.take(1).get_single_element()[0][0].shape}\")"
   ]
  },
  {
   "cell_type": "markdown",
   "id": "72421b0a",
   "metadata": {},
   "source": [
    "## Fetch a model for prediction\n",
    "\n",
    "We fetch a model (840 MB compressed, 1.3 GB decompressed) that we will use to make predictions.\n",
    "\n",
    "Because each element of our Dataset is a tuple `(rgb_image_data, dictionary_of_annotation)`, a typical model that accepts only the former as its input needs to be wrapped.\n",
    "\n",
    "Note that this model assumes that the tiles/images are not batched, with the understanding that if there is enough memory to do batching then one should instead choose a larger tile size. "
   ]
  },
  {
   "cell_type": "code",
   "execution_count": null,
   "id": "dfbf1170",
   "metadata": {},
   "outputs": [],
   "source": [
    "# download trained model.\n",
    "model_path = pooch.retrieve(\n",
    "    fname=\"tcga_brca_model\",\n",
    "    url=\"https://drive.google.com/uc?export=download&id=1KxB6iAn9j2Wp7oyFlV4T1Kli-mR8-35G&confirm=t&uuid=c5df8dfd-ed48-4cef-81a0-19df97677fe5&at=ALgDtswWzs0BEdkVNgFrp83p9NDO:1679111246793\",\n",
    "    known_hash=\"b5b5444cc8874d17811a89261abeafd9b9603e7891a8b2a98d8f13e2846a6689\",\n",
    "    path=str(pooch.os_cache(\"pooch\")) + os.sep + \"model\",\n",
    "    processor=pooch.Unzip(),\n",
    ")\n",
    "model_path = os.path.split(model_path[0])[0]\n",
    "print(f\"Have {model_path}.\")\n",
    "\n",
    "# restore keras model\n",
    "from histomics_detect.models import FasterRCNN\n",
    "\n",
    "model = tf.keras.models.load_model(\n",
    "    model_path, custom_objects={\"FasterRCNN\": FasterRCNN}\n",
    ")\n",
    "\n",
    "\n",
    "# Each element of the `tiles` tensorflow Dataset is a (rgb_image_data, dictionary_of_annotation) pair.\n",
    "# Wrap the unwrapped_model so that it knows to use the image.\n",
    "class WrappedModel(tf.keras.Model):\n",
    "    def __init__(self, model, *args, **kwargs):\n",
    "        super(WrappedModel, self).__init__(*args, **kwargs)\n",
    "        self.model = model\n",
    "\n",
    "    def call(self, element):\n",
    "        return (self.model(element[0]), element[1])\n",
    "\n",
    "\n",
    "unwrapped_model = model\n",
    "model = WrappedModel(unwrapped_model)\n",
    "print(\"Model built and wrapped.\")"
   ]
  },
  {
   "cell_type": "markdown",
   "id": "4614c2a3",
   "metadata": {},
   "source": [
    "## Make predictions"
   ]
  },
  {
   "cell_type": "code",
   "execution_count": null,
   "id": "b050a930",
   "metadata": {},
   "outputs": [],
   "source": [
    "import time\n",
    "\n",
    "print(\"Starting predictions\")\n",
    "start_time = time.time()\n",
    "# This model assumes that the tiles are not batched.  Do not use, e.g., tiles.batch(32).\n",
    "predictions = model.predict(tiles)\n",
    "end_time = time.time()\n",
    "num_inputs = len([0 for tile in tiles])\n",
    "num_predictions = predictions[0].shape[0]\n",
    "print(\n",
    "    f\"Made {num_predictions} predictions for {num_inputs} tiles in {end_time - start_time} s.\"\n",
    ")\n",
    "print(f\"Average of {(end_time - start_time) / num_inputs} s per tile.\")"
   ]
  },
  {
   "cell_type": "markdown",
   "id": "09fc739b",
   "metadata": {},
   "source": [
    "## Look at internals"
   ]
  },
  {
   "cell_type": "code",
   "execution_count": null,
   "id": "1144f373",
   "metadata": {},
   "outputs": [],
   "source": [
    "my_element = tiles.take(1).get_single_element()\n",
    "my_pair = my_element[0]\n",
    "my_target = my_element[1]\n",
    "my_weight = my_element[2]\n",
    "my_image = my_pair[0]\n",
    "my_annotation = my_pair[1]\n",
    "\n",
    "print(f\"   type(my_element) = {type(my_element)}\")\n",
    "print(f\"    len(my_element) = {len(my_element)}\")\n",
    "print(f\"      type(my_pair) = {type(my_pair)}\")\n",
    "print(f\"       len(my_pair) = {len(my_pair)}\")\n",
    "print(f\"    type(my_target) = {type(my_target)}\")\n",
    "print(f\"    type(my_weight) = {type(my_weight)}\")\n",
    "print(f\"     type(my_image) = {type(my_image)}\")\n",
    "print(f\"     my_image.shape = {my_image.shape}\")\n",
    "print(f\"type(my_annotation) = {type(my_annotation)}\")"
   ]
  },
  {
   "cell_type": "markdown",
   "id": "d492e513",
   "metadata": {},
   "source": [
    "## Display a tile"
   ]
  },
  {
   "cell_type": "code",
   "execution_count": null,
   "id": "9531e48d",
   "metadata": {},
   "outputs": [],
   "source": [
    "import itk, itkwidgets\n",
    "\n",
    "itkwidgets.view(itk.image_from_array(my_image.numpy(), is_vector=True))"
   ]
  }
 ],
 "metadata": {
  "kernelspec": {
   "display_name": "Python 3 (ipykernel)",
   "language": "python",
   "name": "python3"
  },
  "language_info": {
   "codemirror_mode": {
    "name": "ipython",
    "version": 3
   },
   "file_extension": ".py",
   "mimetype": "text/x-python",
   "name": "python",
   "nbconvert_exporter": "python",
   "pygments_lexer": "ipython3",
   "version": "3.8.10"
  }
 },
 "nbformat": 4,
 "nbformat_minor": 5
}
