{
 "cells": [
  {
   "cell_type": "raw",
   "metadata": {},
   "source": [
    "!apt update -y\n",
    "!apt install -y python3.8-dev libpython3.8-dev python3-openslide\n",
    "!update-alternatives --install /usr/bin/python3 python /usr/bin/python3.8 8\n",
    "!easy_install six\n",
    "!python -m pip install -U pip setuptools wheel\n",
    "!python -m pip install -U numpy nodejs openslide-python itk ipytree zarr[jupyter] numcodecs napari_lazy_openslide matplotlib jupyterlab git+https://github.com/d-v-b/zarr-jpeg.git"
   ]
  },
  {
   "cell_type": "code",
   "execution_count": 1,
   "metadata": {},
   "outputs": [
    {
     "name": "stdout",
     "output_type": "stream",
     "text": [
      "['blosclz', 'lz4', 'lz4hc', 'snappy', 'zlib', 'zstd']\n"
     ]
    }
   ],
   "source": [
    "import numpy as np\n",
    "import openslide as os\n",
    "import itk\n",
    "import zarr\n",
    "from numcodecs import blosc\n",
    "from numcodecs import Blosc\n",
    "from napari_lazy_openslide.lazy_openslide import OpenSlideStore\n",
    "from matplotlib import pyplot as plt\n",
    "from histomics_stream.codecs import kwjpeg, jpeg2k\n",
    "from zarr_jpeg import jpeg\n",
    "%matplotlib inline\n",
    "print(blosc.list_compressors())"
   ]
  },
  {
   "cell_type": "code",
   "execution_count": 2,
   "metadata": {},
   "outputs": [],
   "source": [
    "filename = './TCGA-BH-A0BZ-01Z-00-DX1.45EB3E93-A871-49C6-9EAE-90D98AE01913.svs'"
   ]
  },
  {
   "cell_type": "code",
   "execution_count": 3,
   "metadata": {},
   "outputs": [],
   "source": [
    "slide = os.OpenSlide(filename)"
   ]
  },
  {
   "cell_type": "code",
   "execution_count": 4,
   "metadata": {},
   "outputs": [
    {
     "data": {
      "text/plain": [
       "(112334, 85047)"
      ]
     },
     "execution_count": 4,
     "metadata": {},
     "output_type": "execute_result"
    }
   ],
   "source": [
    "slide.dimensions"
   ]
  },
  {
   "cell_type": "code",
   "execution_count": 5,
   "metadata": {},
   "outputs": [
    {
     "data": {
      "text/plain": [
       "4"
      ]
     },
     "execution_count": 5,
     "metadata": {},
     "output_type": "execute_result"
    }
   ],
   "source": [
    "slide.level_count"
   ]
  },
  {
   "cell_type": "code",
   "execution_count": 6,
   "metadata": {},
   "outputs": [
    {
     "data": {
      "text/plain": [
       "((112334, 85047), (28083, 21261), (7020, 5315), (3510, 2657))"
      ]
     },
     "execution_count": 6,
     "metadata": {},
     "output_type": "execute_result"
    }
   ],
   "source": [
    "slide.level_dimensions"
   ]
  },
  {
   "cell_type": "code",
   "execution_count": 7,
   "metadata": {},
   "outputs": [
    {
     "name": "stdout",
     "output_type": "stream",
     "text": [
      "40\n",
      "(1.0, 4.000106160445668, 16.001655664637788, 32.006322491681914)\n",
      "[40.          9.99973461  2.49974133  1.24975308]\n"
     ]
    }
   ],
   "source": [
    "print(slide.properties[os.PROPERTY_NAME_OBJECTIVE_POWER])\n",
    "print(slide.level_downsamples)\n",
    "print(np.float32(slide.properties[os.PROPERTY_NAME_OBJECTIVE_POWER]) / np.array(slide.level_downsamples))"
   ]
  },
  {
   "cell_type": "code",
   "execution_count": 8,
   "metadata": {
    "scrolled": true
   },
   "outputs": [
    {
     "data": {
      "text/plain": [
       "<_PropertyMap {'aperio.AppMag': '40', 'aperio.DSR ID': 'resc3-dsr2', 'aperio.Date': '06/08/11', 'aperio.DisplayColor': '0', 'aperio.Exposure Scale': '0.000001', 'aperio.Exposure Time': '109', 'aperio.Filename': 'TCGA-BH-A0BZ-01Z-00-DX1', 'aperio.Focus Offset': '0.000000', 'aperio.ICC Profile': 'ScanScope v1', 'aperio.ImageID': '67763', 'aperio.Left': '32.302200', 'aperio.LineAreaXOffset': '0.000000', 'aperio.LineAreaYOffset': '0.000000', 'aperio.LineCameraSkew': '0.001550', 'aperio.MPP': '0.2505', 'aperio.OriginalHeight': '85147', 'aperio.OriginalWidth': '117000', 'aperio.Parmset': 'GOG136 on RESBPCLACIE01', 'aperio.ScanScope ID': 'SS1248CNTLR', 'aperio.StripeWidth': '1000', 'aperio.Time': '18:52:43', 'aperio.Time Zone': 'GMT-04:00', 'aperio.Title': 'TCGA-BH-A0BZ-01Z-00-DX1', 'aperio.Top': '22.371477', 'aperio.User': 'e7a90227-eba8-4fea-a625-16cb7e474785', 'openslide.comment': 'Aperio Image Library v10.2.41\\r\\n117000x85147 [0,0 112334x85047] (256x256) JPEG/RGB Q=30|AppMag = 40|StripeWidth = 1000|ScanScope ID = SS1248CNTLR|Filename = TCGA-BH-A0BZ-01Z-00-DX1|Title = TCGA-BH-A0BZ-01Z-00-DX1|Date = 06/08/11|Time = 18:52:43|Time Zone = GMT-04:00|User = e7a90227-eba8-4fea-a625-16cb7e474785|Parmset = GOG136 on RESBPCLACIE01|MPP = 0.2505|Left = 32.302200|Top = 22.371477|LineCameraSkew = 0.001550|LineAreaXOffset = 0.000000|LineAreaYOffset = 0.000000|Focus Offset = 0.000000|DSR ID = resc3-dsr2|ImageID = 67763|Exposure Time = 109|Exposure Scale = 0.000001|DisplayColor = 0|OriginalWidth = 117000|OriginalHeight = 85147|ICC Profile = ScanScope v1', 'openslide.level-count': '4', 'openslide.level[0].downsample': '1', 'openslide.level[0].height': '85047', 'openslide.level[0].tile-height': '256', 'openslide.level[0].tile-width': '256', 'openslide.level[0].width': '112334', 'openslide.level[1].downsample': '4.000106160445668', 'openslide.level[1].height': '21261', 'openslide.level[1].tile-height': '256', 'openslide.level[1].tile-width': '256', 'openslide.level[1].width': '28083', 'openslide.level[2].downsample': '16.001655664637788', 'openslide.level[2].height': '5315', 'openslide.level[2].tile-height': '256', 'openslide.level[2].tile-width': '256', 'openslide.level[2].width': '7020', 'openslide.level[3].downsample': '32.006322491681914', 'openslide.level[3].height': '2657', 'openslide.level[3].tile-height': '256', 'openslide.level[3].tile-width': '256', 'openslide.level[3].width': '3510', 'openslide.mpp-x': '0.2505', 'openslide.mpp-y': '0.2505', 'openslide.objective-power': '40', 'openslide.vendor': 'aperio', 'tiff.ImageDescription': 'Aperio Image Library v10.2.41\\r\\n117000x85147 [0,0 112334x85047] (256x256) JPEG/RGB Q=30|AppMag = 40|StripeWidth = 1000|ScanScope ID = SS1248CNTLR|Filename = TCGA-BH-A0BZ-01Z-00-DX1|Title = TCGA-BH-A0BZ-01Z-00-DX1|Date = 06/08/11|Time = 18:52:43|Time Zone = GMT-04:00|User = e7a90227-eba8-4fea-a625-16cb7e474785|Parmset = GOG136 on RESBPCLACIE01|MPP = 0.2505|Left = 32.302200|Top = 22.371477|LineCameraSkew = 0.001550|LineAreaXOffset = 0.000000|LineAreaYOffset = 0.000000|Focus Offset = 0.000000|DSR ID = resc3-dsr2|ImageID = 67763|Exposure Time = 109|Exposure Scale = 0.000001|DisplayColor = 0|OriginalWidth = 117000|OriginalHeight = 85147|ICC Profile = ScanScope v1', 'tiff.ResolutionUnit': 'inch'}>"
      ]
     },
     "execution_count": 8,
     "metadata": {},
     "output_type": "execute_result"
    }
   ],
   "source": [
    "slide.properties"
   ]
  },
  {
   "cell_type": "code",
   "execution_count": 9,
   "metadata": {},
   "outputs": [],
   "source": [
    "store256 = OpenSlideStore(filename, tilesize=256)"
   ]
  },
  {
   "cell_type": "code",
   "execution_count": 10,
   "metadata": {},
   "outputs": [
    {
     "name": "stdout",
     "output_type": "stream",
     "text": [
      "['0', '1', '2', '3']\n",
      "<class 'numpy.uint8'>\n",
      "(85047, 112334, 4)\n",
      "C\n"
     ]
    }
   ],
   "source": [
    "source_group256 = zarr.open(store256, mode='r')\n",
    "print([scale for scale in source_group256.keys()])\n",
    "print(type(source_group256['0'][0,0,0]))\n",
    "print(source_group256['0'].shape)\n",
    "print(source_group256['0'].order)"
   ]
  },
  {
   "cell_type": "code",
   "execution_count": 11,
   "metadata": {},
   "outputs": [
    {
     "name": "stdout",
     "output_type": "stream",
     "text": [
      "/\n",
      " ├── 0 (85047, 112334, 4) uint8\n",
      " ├── 1 (21261, 28083, 4) uint8\n",
      " ├── 2 (5315, 7020, 4) uint8\n",
      " └── 3 (2657, 3510, 4) uint8\n"
     ]
    }
   ],
   "source": [
    "print(source_group256.tree())"
   ]
  },
  {
   "cell_type": "code",
   "execution_count": 12,
   "metadata": {},
   "outputs": [
    {
     "name": "stdout",
     "output_type": "stream",
     "text": [
      "40\n",
      "<class 'numpy.uint8'>\n"
     ]
    }
   ],
   "source": [
    "dest256 = zarr.DirectoryStore('default256.zarr')\n",
    "dest_group256 = zarr.group(store=dest256, overwrite=True)\n",
    "dest_group256.attrs[os.PROPERTY_NAME_OBJECTIVE_POWER] = slide.properties[os.PROPERTY_NAME_OBJECTIVE_POWER]\n",
    "dest_group256.attrs['level_downsamples'] = slide.level_downsamples\n",
    "print(dest_group256.attrs[os.PROPERTY_NAME_OBJECTIVE_POWER])\n",
    "for scale in source_group256.keys():\n",
    "    arrayIn = source_group256[scale][..., :3]\n",
    "    arrayOut = dest_group256.create_dataset(scale, shape=arrayIn.shape, chunks=(256,256), dtype='|u1')\n",
    "    arrayOut[:] = arrayIn\n",
    "print(type(dest_group256['0'][0,0,0]))"
   ]
  },
  {
   "cell_type": "code",
   "execution_count": 13,
   "metadata": {},
   "outputs": [],
   "source": [
    "store1024 = OpenSlideStore(filename, tilesize=1024)\n",
    "source_group1024 = zarr.open(store1024, mode='r')\n",
    "dest1024 = zarr.DirectoryStore('default1024.zarr')\n",
    "dest_group1024 = zarr.group(store=dest1024, overwrite=True)\n",
    "dest_group1024.attrs[os.PROPERTY_NAME_OBJECTIVE_POWER] = slide.properties[os.PROPERTY_NAME_OBJECTIVE_POWER]\n",
    "dest_group1024.attrs['level_downsamples'] = slide.level_downsamples\n",
    "for scale in source_group1024.keys():\n",
    "    arrayIn = source_group1024[scale][..., :3]\n",
    "    arrayOut = dest_group1024.create_dataset(scale, shape=arrayIn.shape, chunks=(1024,1024), dtype='|u1')\n",
    "    arrayOut[:] = arrayIn"
   ]
  },
  {
   "cell_type": "code",
   "execution_count": 14,
   "metadata": {},
   "outputs": [],
   "source": [
    "store2048 = OpenSlideStore(filename, tilesize=2048)\n",
    "source_group2048 = zarr.open(store2048, mode='r')\n",
    "dest2048 = zarr.DirectoryStore('default2048.zarr')\n",
    "dest_group2048 = zarr.group(store=dest2048, overwrite=True)\n",
    "dest_group2048.attrs[os.PROPERTY_NAME_OBJECTIVE_POWER] = slide.properties[os.PROPERTY_NAME_OBJECTIVE_POWER]\n",
    "dest_group2048.attrs['level_downsamples'] = slide.level_downsamples\n",
    "for scale in source_group2048.keys():\n",
    "    arrayIn = source_group2048[scale][..., :3]\n",
    "    arrayOut = dest_group2048.create_dataset(scale, shape=arrayIn.shape, chunks=(2048,2048), dtype='|u1')\n",
    "    arrayOut[:] = arrayIn"
   ]
  },
  {
   "cell_type": "code",
   "execution_count": 15,
   "metadata": {},
   "outputs": [],
   "source": [
    "store4096 = OpenSlideStore(filename, tilesize=4096)\n",
    "source_group4096 = zarr.open(store4096, mode='r')\n",
    "dest4096 = zarr.DirectoryStore('default4096.zarr')\n",
    "dest_group4096 = zarr.group(store=dest4096, overwrite=True)\n",
    "dest_group4096.attrs[os.PROPERTY_NAME_OBJECTIVE_POWER] = slide.properties[os.PROPERTY_NAME_OBJECTIVE_POWER]\n",
    "dest_group4096.attrs['level_downsamples'] = slide.level_downsamples\n",
    "for scale in source_group4096.keys():\n",
    "    arrayIn = source_group4096[scale][..., :3]\n",
    "    arrayOut = dest_group4096.create_dataset(scale, shape=arrayIn.shape, chunks=(4096,4096), dtype='|u1')\n",
    "    arrayOut[:] = arrayIn"
   ]
  },
  {
   "cell_type": "code",
   "execution_count": 16,
   "metadata": {},
   "outputs": [],
   "source": [
    "# does not work??\n",
    "# zarr.convenience.copy_store(store, dest, if_exists='replace')"
   ]
  },
  {
   "cell_type": "code",
   "execution_count": 17,
   "metadata": {},
   "outputs": [
    {
     "name": "stdout",
     "output_type": "stream",
     "text": [
      "1120M\t./TCGA-BH-A0BZ-01Z-00-DX1.45EB3E93-A871-49C6-9EAE-90D98AE01913.svs\n"
     ]
    }
   ],
   "source": [
    "!du --apparent-size -sBM {filename}"
   ]
  },
  {
   "cell_type": "code",
   "execution_count": 18,
   "metadata": {},
   "outputs": [
    {
     "name": "stdout",
     "output_type": "stream",
     "text": [
      "9571M\t./default1024.zarr\n",
      "9571M\t./default256.zarr\n",
      "9591M\t./default2048.zarr\n",
      "9639M\t./default4096.zarr\n"
     ]
    }
   ],
   "source": [
    "!du --apparent-size -sBM ./default*.zarr | sort -h"
   ]
  },
  {
   "cell_type": "code",
   "execution_count": 19,
   "metadata": {},
   "outputs": [
    {
     "name": "stdout",
     "output_type": "stream",
     "text": [
      "[(85047, 112334, 4), (21261, 28083, 4), (5315, 7020, 4), (2657, 3510, 4)]\n"
     ]
    }
   ],
   "source": [
    "store1024 = OpenSlideStore(filename, tilesize=1024)\n",
    "source_group1024 = zarr.open(store1024, mode='r')\n",
    "print([source_group1024[scale].shape for scale in source_group1024.keys()])\n",
    "dest1024 = zarr.DirectoryStore('zstd_compressor1024.zarr')\n",
    "dest_group1024 = zarr.group(store=dest1024, overwrite=True)\n",
    "dest_group1024.attrs[os.PROPERTY_NAME_OBJECTIVE_POWER] = slide.properties[os.PROPERTY_NAME_OBJECTIVE_POWER]\n",
    "dest_group1024.attrs['level_downsamples'] = slide.level_downsamples\n",
    "compressor = Blosc(cname='zstd', clevel=5, shuffle=Blosc.SHUFFLE)\n",
    "for scale in source_group1024.keys():\n",
    "    arrayIn = source_group1024[scale][..., :3]\n",
    "    arrayOut = dest_group1024.create_dataset(scale, shape=arrayIn.shape, chunks=(1024,1024), compressor=compressor, dtype='|u1')\n",
    "    arrayOut[:] = arrayIn"
   ]
  },
  {
   "cell_type": "code",
   "execution_count": 20,
   "metadata": {},
   "outputs": [
    {
     "name": "stdout",
     "output_type": "stream",
     "text": [
      "[(85047, 112334, 4), (21261, 28083, 4), (5315, 7020, 4), (2657, 3510, 4)]\n"
     ]
    }
   ],
   "source": [
    "store2048 = OpenSlideStore(filename, tilesize=2048)\n",
    "source_group2048 = zarr.open(store2048, mode='r')\n",
    "print([source_group2048[scale].shape for scale in source_group2048.keys()])\n",
    "dest2048 = zarr.DirectoryStore('zstd_compressor2048.zarr')\n",
    "dest_group2048 = zarr.group(store=dest2048, overwrite=True)\n",
    "dest_group2048.attrs[os.PROPERTY_NAME_OBJECTIVE_POWER] = slide.properties[os.PROPERTY_NAME_OBJECTIVE_POWER]\n",
    "dest_group2048.attrs['level_downsamples'] = slide.level_downsamples\n",
    "compressor = Blosc(cname='zstd', clevel=5, shuffle=Blosc.SHUFFLE)\n",
    "for scale in source_group2048.keys():\n",
    "    arrayIn = source_group2048[scale][..., :3]\n",
    "    arrayOut = dest_group2048.create_dataset(scale, shape=arrayIn.shape, chunks=(2048,2048), compressor=compressor, dtype='|u1')\n",
    "    arrayOut[:] = arrayIn"
   ]
  },
  {
   "cell_type": "code",
   "execution_count": 21,
   "metadata": {},
   "outputs": [
    {
     "name": "stdout",
     "output_type": "stream",
     "text": [
      "[(85047, 112334, 4), (21261, 28083, 4), (5315, 7020, 4), (2657, 3510, 4)]\n"
     ]
    }
   ],
   "source": [
    "store1024 = OpenSlideStore(filename, tilesize=1024)\n",
    "source_group1024 = zarr.open(store1024, mode='r')\n",
    "print([source_group1024[scale].shape for scale in source_group1024.keys()])\n",
    "dest1024 = zarr.DirectoryStore('jpeg75_compressor1024.zarr')\n",
    "dest_group1024 = zarr.group(store=dest1024, overwrite=True)\n",
    "dest_group1024.attrs[os.PROPERTY_NAME_OBJECTIVE_POWER] = slide.properties[os.PROPERTY_NAME_OBJECTIVE_POWER]\n",
    "dest_group1024.attrs['level_downsamples'] = slide.level_downsamples\n",
    "compressor = jpeg(quality=75)\n",
    "for scale in source_group1024.keys():\n",
    "    arrayIn = np.transpose(source_group1024[scale][..., :3])\n",
    "    arrayOut = dest_group1024.create_dataset(scale, shape=arrayIn.shape, chunks=(3, 1024,1024), compressor=compressor, dtype='|u1')\n",
    "    arrayOut[:] = arrayIn"
   ]
  },
  {
   "cell_type": "code",
   "execution_count": 22,
   "metadata": {},
   "outputs": [
    {
     "name": "stdout",
     "output_type": "stream",
     "text": [
      "[(85047, 112334, 4), (21261, 28083, 4), (5315, 7020, 4), (2657, 3510, 4)]\n"
     ]
    }
   ],
   "source": [
    "store2048 = OpenSlideStore(filename, tilesize=2048)\n",
    "source_group2048 = zarr.open(store2048, mode='r')\n",
    "print([source_group2048[scale].shape for scale in source_group2048.keys()])\n",
    "dest2048 = zarr.DirectoryStore('jpeg75_compressor2048.zarr')\n",
    "dest_group2048 = zarr.group(store=dest2048, overwrite=True)\n",
    "dest_group2048.attrs[os.PROPERTY_NAME_OBJECTIVE_POWER] = slide.properties[os.PROPERTY_NAME_OBJECTIVE_POWER]\n",
    "dest_group2048.attrs['level_downsamples'] = slide.level_downsamples\n",
    "compressor = jpeg(quality=75)\n",
    "for scale in source_group2048.keys():\n",
    "    arrayIn = np.transpose(source_group2048[scale][..., :3])\n",
    "    arrayOut = dest_group2048.create_dataset(scale, shape=arrayIn.shape, chunks=(3, 2048,2048), compressor=compressor, dtype='|u1')\n",
    "    arrayOut[:] = arrayIn"
   ]
  },
  {
   "cell_type": "code",
   "execution_count": 23,
   "metadata": {},
   "outputs": [
    {
     "name": "stdout",
     "output_type": "stream",
     "text": [
      "[(85047, 112334, 4), (21261, 28083, 4), (5315, 7020, 4), (2657, 3510, 4)]\n"
     ]
    }
   ],
   "source": [
    "store1024 = OpenSlideStore(filename, tilesize=1024)\n",
    "source_group1024 = zarr.open(store1024, mode='r')\n",
    "print([source_group1024[scale].shape for scale in source_group1024.keys()])\n",
    "dest1024 = zarr.DirectoryStore('jpeg50_compressor1024.zarr')\n",
    "dest_group1024 = zarr.group(store=dest1024, overwrite=True)\n",
    "dest_group1024.attrs[os.PROPERTY_NAME_OBJECTIVE_POWER] = slide.properties[os.PROPERTY_NAME_OBJECTIVE_POWER]\n",
    "dest_group1024.attrs['level_downsamples'] = slide.level_downsamples\n",
    "compressor = jpeg(quality=50)\n",
    "for scale in source_group1024.keys():\n",
    "    arrayIn = np.transpose(source_group1024[scale][..., :3])\n",
    "    arrayOut = dest_group1024.create_dataset(scale, shape=arrayIn.shape, chunks=(3, 1024,1024), compressor=compressor, dtype='|u1')\n",
    "    arrayOut[:] = arrayIn"
   ]
  },
  {
   "cell_type": "code",
   "execution_count": 24,
   "metadata": {},
   "outputs": [
    {
     "name": "stdout",
     "output_type": "stream",
     "text": [
      "[(85047, 112334, 4), (21261, 28083, 4), (5315, 7020, 4), (2657, 3510, 4)]\n"
     ]
    }
   ],
   "source": [
    "store2048 = OpenSlideStore(filename, tilesize=2048)\n",
    "source_group2048 = zarr.open(store2048, mode='r')\n",
    "print([source_group2048[scale].shape for scale in source_group2048.keys()])\n",
    "dest2048 = zarr.DirectoryStore('jpeg50_compressor2048.zarr')\n",
    "dest_group2048 = zarr.group(store=dest2048, overwrite=True)\n",
    "dest_group2048.attrs[os.PROPERTY_NAME_OBJECTIVE_POWER] = slide.properties[os.PROPERTY_NAME_OBJECTIVE_POWER]\n",
    "dest_group2048.attrs['level_downsamples'] = slide.level_downsamples\n",
    "compressor = jpeg(quality=50)\n",
    "for scale in source_group2048.keys():\n",
    "    arrayIn = np.transpose(source_group2048[scale][..., 0:3])\n",
    "    arrayOut = dest_group2048.create_dataset(scale, shape=arrayIn.shape, chunks=(3, 2048,2048), compressor=compressor, dtype='|u1')\n",
    "    arrayOut[:] = arrayIn"
   ]
  },
  {
   "cell_type": "code",
   "execution_count": 25,
   "metadata": {},
   "outputs": [
    {
     "name": "stdout",
     "output_type": "stream",
     "text": [
      "[(85047, 112334, 4), (21261, 28083, 4), (5315, 7020, 4), (2657, 3510, 4)]\n"
     ]
    }
   ],
   "source": [
    "store2048 = OpenSlideStore(filename, tilesize=2048)\n",
    "source_group2048 = zarr.open(store2048, mode='r')\n",
    "print([source_group2048[scale].shape for scale in source_group2048.keys()])\n",
    "dest2048 = zarr.DirectoryStore('kwjpeg30_compressor2048.zarr')\n",
    "dest_group2048 = zarr.group(store=dest2048, overwrite=True)\n",
    "dest_group2048.attrs[os.PROPERTY_NAME_OBJECTIVE_POWER] = slide.properties[os.PROPERTY_NAME_OBJECTIVE_POWER]\n",
    "dest_group2048.attrs['level_downsamples'] = slide.level_downsamples\n",
    "compressor = kwjpeg(quality=30)\n",
    "for scale in source_group2048.keys():\n",
    "    arrayIn = source_group2048[scale][..., :3]\n",
    "    arrayOut = dest_group2048.create_dataset(scale, shape=arrayIn.shape, chunks=(2048,2048), compressor=compressor, dtype='|u1')\n",
    "    arrayOut[:] = arrayIn"
   ]
  },
  {
   "cell_type": "code",
   "execution_count": 26,
   "metadata": {},
   "outputs": [
    {
     "name": "stdout",
     "output_type": "stream",
     "text": [
      "[(85047, 112334, 4), (21261, 28083, 4), (5315, 7020, 4), (2657, 3510, 4)]\n"
     ]
    }
   ],
   "source": [
    "store256 = OpenSlideStore(filename, tilesize=256)\n",
    "source_group256 = zarr.open(store256, mode='r')\n",
    "print([source_group256[scale].shape for scale in source_group256.keys()])\n",
    "dest256 = zarr.DirectoryStore('kwjpeg30_compressor256.zarr')\n",
    "dest_group256 = zarr.group(store=dest256, overwrite=True)\n",
    "dest_group256.attrs[os.PROPERTY_NAME_OBJECTIVE_POWER] = slide.properties[os.PROPERTY_NAME_OBJECTIVE_POWER]\n",
    "dest_group256.attrs['level_downsamples'] = slide.level_downsamples\n",
    "compressor = kwjpeg(quality=30)\n",
    "for scale in source_group256.keys():\n",
    "    arrayIn = source_group256[scale][..., :3]\n",
    "    arrayOut = dest_group256.create_dataset(scale, shape=arrayIn.shape, chunks=(256,256), compressor=compressor, dtype='|u1')\n",
    "    arrayOut[:] = arrayIn"
   ]
  },
  {
   "cell_type": "code",
   "execution_count": 27,
   "metadata": {},
   "outputs": [
    {
     "name": "stdout",
     "output_type": "stream",
     "text": [
      "[(85047, 112334, 4), (21261, 28083, 4), (5315, 7020, 4), (2657, 3510, 4)]\n"
     ]
    }
   ],
   "source": [
    "store256 = OpenSlideStore(filename, tilesize=256)\n",
    "source_group256 = zarr.open(store256, mode='r')\n",
    "print([source_group256[scale].shape for scale in source_group256.keys()])\n",
    "dest256 = zarr.DirectoryStore('kwjpegVarious_compressor256.zarr')\n",
    "dest_group256 = zarr.group(store=dest256, overwrite=True)\n",
    "dest_group256.attrs[os.PROPERTY_NAME_OBJECTIVE_POWER] = slide.properties[os.PROPERTY_NAME_OBJECTIVE_POWER]\n",
    "dest_group256.attrs['level_downsamples'] = slide.level_downsamples\n",
    "\n",
    "arrayIn = source_group256[0][..., :3]\n",
    "arrayOut = dest_group256.create_dataset(0, shape=arrayIn.shape, chunks=(256,256), compressor=kwjpeg(quality=30), dtype='|u1')\n",
    "arrayOut[:] = arrayIn\n",
    "\n",
    "arrayIn = source_group256[1][..., :3]\n",
    "arrayOut = dest_group256.create_dataset(1, shape=arrayIn.shape, chunks=(256,256), compressor=kwjpeg(quality=65), dtype='|u1')\n",
    "arrayOut[:] = arrayIn\n",
    "\n",
    "arrayIn = source_group256[2][..., :3]\n",
    "arrayOut = dest_group256.create_dataset(2, shape=arrayIn.shape, chunks=(256,256), compressor=kwjpeg(quality=82), dtype='|u1')\n",
    "arrayOut[:] = arrayIn\n",
    "\n",
    "arrayIn = source_group256[3][..., :3]\n",
    "arrayOut = dest_group256.create_dataset(3, shape=arrayIn.shape, chunks=(256,256), compressor=kwjpeg(quality=91), dtype='|u1')\n",
    "arrayOut[:] = arrayIn"
   ]
  },
  {
   "cell_type": "code",
   "execution_count": 28,
   "metadata": {},
   "outputs": [
    {
     "name": "stdout",
     "output_type": "stream",
     "text": [
      "[(85047, 112334, 4), (21261, 28083, 4), (5315, 7020, 4), (2657, 3510, 4)]\n"
     ]
    }
   ],
   "source": [
    "store2048 = OpenSlideStore(filename, tilesize=2048)\n",
    "source_group2048 = zarr.open(store2048, mode='r')\n",
    "print([source_group2048[scale].shape for scale in source_group2048.keys()])\n",
    "dest2048 = zarr.DirectoryStore('kwjpeg75_compressor2048.zarr')\n",
    "dest_group2048 = zarr.group(store=dest2048, overwrite=True)\n",
    "dest_group2048.attrs[os.PROPERTY_NAME_OBJECTIVE_POWER] = slide.properties[os.PROPERTY_NAME_OBJECTIVE_POWER]\n",
    "dest_group2048.attrs['level_downsamples'] = slide.level_downsamples\n",
    "compressor = kwjpeg(quality=75)\n",
    "for scale in source_group2048.keys():\n",
    "    arrayIn = source_group2048[scale][..., :3]\n",
    "    arrayOut = dest_group2048.create_dataset(scale, shape=arrayIn.shape, chunks=(2048,2048), compressor=compressor, dtype='|u1')\n",
    "    arrayOut[:] = arrayIn"
   ]
  },
  {
   "cell_type": "code",
   "execution_count": 29,
   "metadata": {},
   "outputs": [
    {
     "name": "stdout",
     "output_type": "stream",
     "text": [
      "[(85047, 112334, 4), (21261, 28083, 4), (5315, 7020, 4), (2657, 3510, 4)]\n"
     ]
    }
   ],
   "source": [
    "store2048 = OpenSlideStore(filename, tilesize=2048)\n",
    "source_group2048 = zarr.open(store2048, mode='r')\n",
    "print([source_group2048[scale].shape for scale in source_group2048.keys()])\n",
    "dest2048 = zarr.DirectoryStore('kwjpeg100_compressor2048.zarr')\n",
    "dest_group2048 = zarr.group(store=dest2048, overwrite=True)\n",
    "dest_group2048.attrs[os.PROPERTY_NAME_OBJECTIVE_POWER] = slide.properties[os.PROPERTY_NAME_OBJECTIVE_POWER]\n",
    "dest_group2048.attrs['level_downsamples'] = slide.level_downsamples\n",
    "compressor = kwjpeg(quality=100)\n",
    "for scale in source_group2048.keys():\n",
    "    arrayIn = source_group2048[scale][..., :3]\n",
    "    arrayOut = dest_group2048.create_dataset(scale, shape=arrayIn.shape, chunks=(2048,2048), compressor=compressor, dtype='|u1')\n",
    "    arrayOut[:] = arrayIn"
   ]
  },
  {
   "cell_type": "code",
   "execution_count": 30,
   "metadata": {},
   "outputs": [
    {
     "name": "stdout",
     "output_type": "stream",
     "text": [
      "[(85047, 112334, 4), (21261, 28083, 4), (5315, 7020, 4), (2657, 3510, 4)]\n"
     ]
    }
   ],
   "source": [
    "store256 = OpenSlideStore(filename, tilesize=256)\n",
    "source_group256 = zarr.open(store256, mode='r')\n",
    "print([source_group256[scale].shape for scale in source_group256.keys()])\n",
    "dest256 = zarr.DirectoryStore('kwjpeg100_compressor256.zarr')\n",
    "dest_group256 = zarr.group(store=dest256, overwrite=True)\n",
    "dest_group256.attrs[os.PROPERTY_NAME_OBJECTIVE_POWER] = slide.properties[os.PROPERTY_NAME_OBJECTIVE_POWER]\n",
    "dest_group256.attrs['level_downsamples'] = slide.level_downsamples\n",
    "compressor = kwjpeg(quality=100)\n",
    "for scale in source_group256.keys():\n",
    "    arrayIn = source_group256[scale][..., :3]\n",
    "    arrayOut = dest_group256.create_dataset(scale, shape=arrayIn.shape, chunks=(256,256), compressor=compressor, dtype='|u1')\n",
    "    arrayOut[:] = arrayIn"
   ]
  },
  {
   "cell_type": "code",
   "execution_count": 37,
   "metadata": {},
   "outputs": [
    {
     "name": "stdout",
     "output_type": "stream",
     "text": [
      "[(85047, 112334, 4), (21261, 28083, 4), (5315, 7020, 4), (2657, 3510, 4)]\n"
     ]
    }
   ],
   "source": [
    "store2048 = OpenSlideStore(filename, tilesize=2048)\n",
    "source_group2048 = zarr.open(store2048, mode='r')\n",
    "print([source_group2048[scale].shape for scale in source_group2048.keys()])\n",
    "dest2048 = zarr.DirectoryStore('jpeg2klevel80_compressor2048.zarr')\n",
    "dest_group2048 = zarr.group(store=dest2048, overwrite=True)\n",
    "dest_group2048.attrs[os.PROPERTY_NAME_OBJECTIVE_POWER] = slide.properties[os.PROPERTY_NAME_OBJECTIVE_POWER]\n",
    "dest_group2048.attrs['level_downsamples'] = slide.level_downsamples\n",
    "compressor = jpeg2k(quality=80)\n",
    "for scale in source_group2048.keys():\n",
    "    arrayIn = source_group2048[scale][..., :3]\n",
    "    arrayOut = dest_group2048.create_dataset(scale, shape=arrayIn.shape, chunks=(2048,2048), compressor=compressor, dtype='|u1')\n",
    "    arrayOut[:] = arrayIn"
   ]
  },
  {
   "cell_type": "code",
   "execution_count": null,
   "metadata": {},
   "outputs": [],
   "source": [
    "!du --apparent-size -sBM ./*_compressor*.zarr | sort -h"
   ]
  },
  {
   "cell_type": "code",
   "execution_count": null,
   "metadata": {},
   "outputs": [],
   "source": [
    "a2 = zarr.array(arrayOut, compressor=compressor)\n",
    "a2"
   ]
  },
  {
   "cell_type": "code",
   "execution_count": null,
   "metadata": {},
   "outputs": [],
   "source": [
    "store2048B = zarr.DirectoryStore('default2048.zarr')\n",
    "source_group2048B = zarr.open(store2048B, mode='r')\n",
    "print(dest_group2048.attrs[os.PROPERTY_NAME_OBJECTIVE_POWER])\n",
    "print(source_group2048B.attrs[os.PROPERTY_NAME_OBJECTIVE_POWER])\n",
    "print([scale for scale in dest_group2048.keys()])\n",
    "print([scale for scale in source_group2048B.keys()])\n",
    "print([source_group2048B[scale].shape for scale in source_group2048B.keys()])\n",
    "objective = np.float32(source_group2048B.attrs[os.PROPERTY_NAME_OBJECTIVE_POWER])\n",
    "estimated = np.array(objective / source_group2048B.attrs['level_downsamples'])\n",
    "print(estimated)\n",
    "chunk = source_group2048B[format(0)][0:2048, 0:2048]\n",
    "print(chunk.shape)\n",
    "print(chunk[...,:3].shape)\n",
    "print([x for x in source_group2048B.attrs.keys()])"
   ]
  },
  {
   "cell_type": "code",
   "execution_count": null,
   "metadata": {},
   "outputs": [],
   "source": [
    "zarr.group?"
   ]
  },
  {
   "cell_type": "code",
   "execution_count": null,
   "metadata": {},
   "outputs": [],
   "source": [
    "zarr.DirectoryStore?"
   ]
  },
  {
   "cell_type": "code",
   "execution_count": null,
   "metadata": {},
   "outputs": [],
   "source": []
  }
 ],
 "metadata": {
  "kernelspec": {
   "display_name": "Python 3",
   "language": "python",
   "name": "python3"
  },
  "language_info": {
   "codemirror_mode": {
    "name": "ipython",
    "version": 3
   },
   "file_extension": ".py",
   "mimetype": "text/x-python",
   "name": "python",
   "nbconvert_exporter": "python",
   "pygments_lexer": "ipython3",
   "version": "3.8.0"
  }
 },
 "nbformat": 4,
 "nbformat_minor": 4
}
